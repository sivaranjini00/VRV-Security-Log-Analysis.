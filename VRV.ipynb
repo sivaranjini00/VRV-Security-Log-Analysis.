{
  "nbformat": 4,
  "nbformat_minor": 0,
  "metadata": {
    "colab": {
      "provenance": []
    },
    "kernelspec": {
      "name": "python3",
      "display_name": "Python 3"
    },
    "language_info": {
      "name": "python"
    }
  },
  "cells": [
    {
      "cell_type": "code",
      "source": [
        "from google.colab import files\n",
        "\n",
        "# Upload file\n",
        "uploaded = files.upload()\n"
      ],
      "metadata": {
        "colab": {
          "base_uri": "https://localhost:8080/",
          "height": 73
        },
        "id": "g4sWcu2kasRU",
        "outputId": "2d9ca3ae-2019-4ac4-994b-026d9cef6eb2"
      },
      "execution_count": 2,
      "outputs": [
        {
          "output_type": "display_data",
          "data": {
            "text/plain": [
              "<IPython.core.display.HTML object>"
            ],
            "text/html": [
              "\n",
              "     <input type=\"file\" id=\"files-066dda58-7ff9-4ad2-b67d-a18f8a465122\" name=\"files[]\" multiple disabled\n",
              "        style=\"border:none\" />\n",
              "     <output id=\"result-066dda58-7ff9-4ad2-b67d-a18f8a465122\">\n",
              "      Upload widget is only available when the cell has been executed in the\n",
              "      current browser session. Please rerun this cell to enable.\n",
              "      </output>\n",
              "      <script>// Copyright 2017 Google LLC\n",
              "//\n",
              "// Licensed under the Apache License, Version 2.0 (the \"License\");\n",
              "// you may not use this file except in compliance with the License.\n",
              "// You may obtain a copy of the License at\n",
              "//\n",
              "//      http://www.apache.org/licenses/LICENSE-2.0\n",
              "//\n",
              "// Unless required by applicable law or agreed to in writing, software\n",
              "// distributed under the License is distributed on an \"AS IS\" BASIS,\n",
              "// WITHOUT WARRANTIES OR CONDITIONS OF ANY KIND, either express or implied.\n",
              "// See the License for the specific language governing permissions and\n",
              "// limitations under the License.\n",
              "\n",
              "/**\n",
              " * @fileoverview Helpers for google.colab Python module.\n",
              " */\n",
              "(function(scope) {\n",
              "function span(text, styleAttributes = {}) {\n",
              "  const element = document.createElement('span');\n",
              "  element.textContent = text;\n",
              "  for (const key of Object.keys(styleAttributes)) {\n",
              "    element.style[key] = styleAttributes[key];\n",
              "  }\n",
              "  return element;\n",
              "}\n",
              "\n",
              "// Max number of bytes which will be uploaded at a time.\n",
              "const MAX_PAYLOAD_SIZE = 100 * 1024;\n",
              "\n",
              "function _uploadFiles(inputId, outputId) {\n",
              "  const steps = uploadFilesStep(inputId, outputId);\n",
              "  const outputElement = document.getElementById(outputId);\n",
              "  // Cache steps on the outputElement to make it available for the next call\n",
              "  // to uploadFilesContinue from Python.\n",
              "  outputElement.steps = steps;\n",
              "\n",
              "  return _uploadFilesContinue(outputId);\n",
              "}\n",
              "\n",
              "// This is roughly an async generator (not supported in the browser yet),\n",
              "// where there are multiple asynchronous steps and the Python side is going\n",
              "// to poll for completion of each step.\n",
              "// This uses a Promise to block the python side on completion of each step,\n",
              "// then passes the result of the previous step as the input to the next step.\n",
              "function _uploadFilesContinue(outputId) {\n",
              "  const outputElement = document.getElementById(outputId);\n",
              "  const steps = outputElement.steps;\n",
              "\n",
              "  const next = steps.next(outputElement.lastPromiseValue);\n",
              "  return Promise.resolve(next.value.promise).then((value) => {\n",
              "    // Cache the last promise value to make it available to the next\n",
              "    // step of the generator.\n",
              "    outputElement.lastPromiseValue = value;\n",
              "    return next.value.response;\n",
              "  });\n",
              "}\n",
              "\n",
              "/**\n",
              " * Generator function which is called between each async step of the upload\n",
              " * process.\n",
              " * @param {string} inputId Element ID of the input file picker element.\n",
              " * @param {string} outputId Element ID of the output display.\n",
              " * @return {!Iterable<!Object>} Iterable of next steps.\n",
              " */\n",
              "function* uploadFilesStep(inputId, outputId) {\n",
              "  const inputElement = document.getElementById(inputId);\n",
              "  inputElement.disabled = false;\n",
              "\n",
              "  const outputElement = document.getElementById(outputId);\n",
              "  outputElement.innerHTML = '';\n",
              "\n",
              "  const pickedPromise = new Promise((resolve) => {\n",
              "    inputElement.addEventListener('change', (e) => {\n",
              "      resolve(e.target.files);\n",
              "    });\n",
              "  });\n",
              "\n",
              "  const cancel = document.createElement('button');\n",
              "  inputElement.parentElement.appendChild(cancel);\n",
              "  cancel.textContent = 'Cancel upload';\n",
              "  const cancelPromise = new Promise((resolve) => {\n",
              "    cancel.onclick = () => {\n",
              "      resolve(null);\n",
              "    };\n",
              "  });\n",
              "\n",
              "  // Wait for the user to pick the files.\n",
              "  const files = yield {\n",
              "    promise: Promise.race([pickedPromise, cancelPromise]),\n",
              "    response: {\n",
              "      action: 'starting',\n",
              "    }\n",
              "  };\n",
              "\n",
              "  cancel.remove();\n",
              "\n",
              "  // Disable the input element since further picks are not allowed.\n",
              "  inputElement.disabled = true;\n",
              "\n",
              "  if (!files) {\n",
              "    return {\n",
              "      response: {\n",
              "        action: 'complete',\n",
              "      }\n",
              "    };\n",
              "  }\n",
              "\n",
              "  for (const file of files) {\n",
              "    const li = document.createElement('li');\n",
              "    li.append(span(file.name, {fontWeight: 'bold'}));\n",
              "    li.append(span(\n",
              "        `(${file.type || 'n/a'}) - ${file.size} bytes, ` +\n",
              "        `last modified: ${\n",
              "            file.lastModifiedDate ? file.lastModifiedDate.toLocaleDateString() :\n",
              "                                    'n/a'} - `));\n",
              "    const percent = span('0% done');\n",
              "    li.appendChild(percent);\n",
              "\n",
              "    outputElement.appendChild(li);\n",
              "\n",
              "    const fileDataPromise = new Promise((resolve) => {\n",
              "      const reader = new FileReader();\n",
              "      reader.onload = (e) => {\n",
              "        resolve(e.target.result);\n",
              "      };\n",
              "      reader.readAsArrayBuffer(file);\n",
              "    });\n",
              "    // Wait for the data to be ready.\n",
              "    let fileData = yield {\n",
              "      promise: fileDataPromise,\n",
              "      response: {\n",
              "        action: 'continue',\n",
              "      }\n",
              "    };\n",
              "\n",
              "    // Use a chunked sending to avoid message size limits. See b/62115660.\n",
              "    let position = 0;\n",
              "    do {\n",
              "      const length = Math.min(fileData.byteLength - position, MAX_PAYLOAD_SIZE);\n",
              "      const chunk = new Uint8Array(fileData, position, length);\n",
              "      position += length;\n",
              "\n",
              "      const base64 = btoa(String.fromCharCode.apply(null, chunk));\n",
              "      yield {\n",
              "        response: {\n",
              "          action: 'append',\n",
              "          file: file.name,\n",
              "          data: base64,\n",
              "        },\n",
              "      };\n",
              "\n",
              "      let percentDone = fileData.byteLength === 0 ?\n",
              "          100 :\n",
              "          Math.round((position / fileData.byteLength) * 100);\n",
              "      percent.textContent = `${percentDone}% done`;\n",
              "\n",
              "    } while (position < fileData.byteLength);\n",
              "  }\n",
              "\n",
              "  // All done.\n",
              "  yield {\n",
              "    response: {\n",
              "      action: 'complete',\n",
              "    }\n",
              "  };\n",
              "}\n",
              "\n",
              "scope.google = scope.google || {};\n",
              "scope.google.colab = scope.google.colab || {};\n",
              "scope.google.colab._files = {\n",
              "  _uploadFiles,\n",
              "  _uploadFilesContinue,\n",
              "};\n",
              "})(self);\n",
              "</script> "
            ]
          },
          "metadata": {}
        },
        {
          "output_type": "stream",
          "name": "stdout",
          "text": [
            "Saving sample.log to sample.log\n"
          ]
        }
      ]
    },
    {
      "cell_type": "code",
      "execution_count": 3,
      "metadata": {
        "colab": {
          "base_uri": "https://localhost:8080/"
        },
        "id": "MGxtV40zXrvZ",
        "outputId": "18d49d10-2b98-437b-9d1c-395ab4595a20"
      },
      "outputs": [
        {
          "output_type": "stream",
          "name": "stdout",
          "text": [
            "IP Address Request Counts:\n",
            "192.168.1.1: 7 requests\n",
            "203.0.113.5: 8 requests\n",
            "10.0.0.2: 6 requests\n",
            "198.51.100.23: 8 requests\n",
            "192.168.1.100: 5 requests\n",
            "\n",
            "Endpoint Access Counts:\n",
            "/home: 5 accesses\n",
            "/login: 13 accesses\n",
            "/about: 5 accesses\n",
            "/contact: 2 accesses\n",
            "/register: 2 accesses\n",
            "/dashboard: 3 accesses\n",
            "/profile: 2 accesses\n",
            "/feedback: 2 accesses\n"
          ]
        }
      ],
      "source": [
        "import re\n",
        "\n",
        "# File path to the log file\n",
        "log_file = 'sample.log'\n",
        "\n",
        "# Dictionary to store request counts by IP\n",
        "ip_request_counts = {}\n",
        "# Dictionary to store counts of each endpoint\n",
        "endpoint_counts = {}\n",
        "\n",
        "# Regular expression pattern for extracting IP and endpoint\n",
        "log_pattern = r'(\\d+\\.\\d+\\.\\d+\\.\\d+) - - \\[\\S+ \\S+\\] \"(?:GET|POST) (\\S+) HTTP/1.1\" \\d+'\n",
        "\n",
        "# Open and read the log file\n",
        "with open(log_file, 'r') as file:\n",
        "    for line in file:\n",
        "        # Use regex to find IP address and endpoint in each line\n",
        "        match = re.search(log_pattern, line)\n",
        "        if match:\n",
        "            ip_address = match.group(1)\n",
        "            endpoint = match.group(2)\n",
        "\n",
        "            # Count requests by IP\n",
        "            if ip_address in ip_request_counts:\n",
        "                ip_request_counts[ip_address] += 1\n",
        "            else:\n",
        "                ip_request_counts[ip_address] = 1\n",
        "\n",
        "            # Count accesses to each endpoint\n",
        "            if endpoint in endpoint_counts:\n",
        "                endpoint_counts[endpoint] += 1\n",
        "            else:\n",
        "                endpoint_counts[endpoint] = 1\n",
        "\n",
        "# Display results so far\n",
        "print(\"IP Address Request Counts:\")\n",
        "for ip, count in ip_request_counts.items():\n",
        "    print(f\"{ip}: {count} requests\")\n",
        "\n",
        "print(\"\\nEndpoint Access Counts:\")\n",
        "for endpoint, count in endpoint_counts.items():\n",
        "    print(f\"{endpoint}: {count} accesses\")\n",
        ""
      ]
    },
    {
      "cell_type": "code",
      "source": [
        "# Sort IP request counts by the number of requests (descending order)\n",
        "sorted_ip_requests = sorted(ip_request_counts.items(), key=lambda x: x[1], reverse=True)\n",
        "\n",
        "print(\"\\nIP Address Request Counts (Sorted):\")\n",
        "for ip, count in sorted_ip_requests:\n",
        "    print(f\"{ip}: {count} requests\")\n"
      ],
      "metadata": {
        "colab": {
          "base_uri": "https://localhost:8080/"
        },
        "id": "QzY_aSYkaqaJ",
        "outputId": "ed99b2a3-2500-45f1-829d-2b25e491040a"
      },
      "execution_count": 4,
      "outputs": [
        {
          "output_type": "stream",
          "name": "stdout",
          "text": [
            "\n",
            "IP Address Request Counts (Sorted):\n",
            "203.0.113.5: 8 requests\n",
            "198.51.100.23: 8 requests\n",
            "192.168.1.1: 7 requests\n",
            "10.0.0.2: 6 requests\n",
            "192.168.1.100: 5 requests\n"
          ]
        }
      ]
    },
    {
      "cell_type": "code",
      "source": [
        "# Find the most frequently accessed endpoint\n",
        "most_accessed_endpoint = max(endpoint_counts.items(), key=lambda x: x[1])\n",
        "\n",
        "print(f\"\\nMost Frequently Accessed Endpoint: {most_accessed_endpoint[0]} (Accessed {most_accessed_endpoint[1]} times)\")\n"
      ],
      "metadata": {
        "colab": {
          "base_uri": "https://localhost:8080/"
        },
        "id": "IsvHtEr9gj9H",
        "outputId": "39380d35-d0fe-4f15-face-a8d2a0b9fc2f"
      },
      "execution_count": 5,
      "outputs": [
        {
          "output_type": "stream",
          "name": "stdout",
          "text": [
            "\n",
            "Most Frequently Accessed Endpoint: /login (Accessed 13 times)\n"
          ]
        }
      ]
    },
    {
      "cell_type": "code",
      "source": [
        "import re\n",
        "\n",
        "# Dictionary to store failed login attempts by IP address\n",
        "failed_login_attempts = {}\n",
        "\n",
        "# Configurable threshold for detecting brute force attempts (default: 10)\n",
        "threshold = 3\n",
        "\n",
        "# Regular expression pattern for failed login attempts (status code 401 or \"Invalid credentials\")\n",
        "failed_login_pattern = r'(\\d+\\.\\d+\\.\\d+\\.\\d+) - - \\[\\S+ \\S+\\] \"POST /login HTTP/1.1\" 401'\n",
        "\n",
        "# Re-read the log file to detect failed login attempts\n",
        "with open(log_file, 'r') as file:\n",
        "    for line in file:\n",
        "        # Match log lines for failed login attempts (status code 401)\n",
        "        if re.search(failed_login_pattern, line):\n",
        "            # Extract IP address from the log line\n",
        "            ip_address = re.search(r'(\\d+\\.\\d+\\.\\d+\\.\\d+)', line).group(1)\n",
        "\n",
        "            # Count failed login attempts by IP\n",
        "            if ip_address in failed_login_attempts:\n",
        "                failed_login_attempts[ip_address] += 1\n",
        "            else:\n",
        "                failed_login_attempts[ip_address] = 1\n",
        "\n",
        "# Display suspicious activity: IP addresses with failed login attempts exceeding the threshold\n",
        "print(\"\\nSuspicious Activity Detected:\")\n",
        "print(\"IP Address           Failed Login Attempts\")\n",
        "for ip, count in failed_login_attempts.items():\n",
        "    if count > threshold:\n",
        "        print(f\"{ip:20} {count}\")\n"
      ],
      "metadata": {
        "colab": {
          "base_uri": "https://localhost:8080/"
        },
        "id": "e_dWstbMg0Or",
        "outputId": "839b013a-e1a8-40af-e206-ee85c349bf82"
      },
      "execution_count": 15,
      "outputs": [
        {
          "output_type": "stream",
          "name": "stdout",
          "text": [
            "\n",
            "Suspicious Activity Detected:\n",
            "IP Address           Failed Login Attempts\n",
            "203.0.113.5          8\n",
            "192.168.1.100        5\n"
          ]
        }
      ]
    },
    {
      "cell_type": "code",
      "source": [
        "import csv\n",
        "\n",
        "# Save results to CSV\n",
        "with open('log_analysis_results.csv', 'w', newline='') as csvfile:\n",
        "    csvwriter = csv.writer(csvfile)\n",
        "\n",
        "    # Write header for IP request counts\n",
        "    csvwriter.writerow(['IP Address', 'Request Count'])\n",
        "    for ip, count in sorted_ip_requests:\n",
        "        csvwriter.writerow([ip, count])\n",
        "\n",
        "    # Write the most accessed endpoint\n",
        "    csvwriter.writerow([])\n",
        "    csvwriter.writerow(['Most Accessed Endpoint', 'Access Count'])\n",
        "    csvwriter.writerow([most_accessed_endpoint[0], most_accessed_endpoint[1]])\n",
        "\n",
        "    # Write suspicious activity\n",
        "    csvwriter.writerow([])\n",
        "    csvwriter.writerow(['IP Address', 'Failed Login Count'])\n",
        "    for ip, count in failed_login_attempts.items():\n",
        "        if count > threshold:\n",
        "            csvwriter.writerow([ip, count])\n",
        "\n",
        "print(\"\\nResults saved to 'log_analysis_results.csv'\")\n"
      ],
      "metadata": {
        "colab": {
          "base_uri": "https://localhost:8080/"
        },
        "id": "Z1j_LVLaxgUH",
        "outputId": "84654272-2786-49fb-e363-1d19b75cb534"
      },
      "execution_count": 16,
      "outputs": [
        {
          "output_type": "stream",
          "name": "stdout",
          "text": [
            "\n",
            "Results saved to 'log_analysis_results.csv'\n"
          ]
        }
      ]
    },
    {
      "cell_type": "code",
      "source": [
        "# prompt: Download csv file\n",
        "\n",
        "files.download('log_analysis_results.csv')\n"
      ],
      "metadata": {
        "colab": {
          "base_uri": "https://localhost:8080/",
          "height": 17
        },
        "id": "6acGxH1Fxl1u",
        "outputId": "3cde0d30-bf51-4b4c-87f7-76234fb7626a"
      },
      "execution_count": 17,
      "outputs": [
        {
          "output_type": "display_data",
          "data": {
            "text/plain": [
              "<IPython.core.display.Javascript object>"
            ],
            "application/javascript": [
              "\n",
              "    async function download(id, filename, size) {\n",
              "      if (!google.colab.kernel.accessAllowed) {\n",
              "        return;\n",
              "      }\n",
              "      const div = document.createElement('div');\n",
              "      const label = document.createElement('label');\n",
              "      label.textContent = `Downloading \"${filename}\": `;\n",
              "      div.appendChild(label);\n",
              "      const progress = document.createElement('progress');\n",
              "      progress.max = size;\n",
              "      div.appendChild(progress);\n",
              "      document.body.appendChild(div);\n",
              "\n",
              "      const buffers = [];\n",
              "      let downloaded = 0;\n",
              "\n",
              "      const channel = await google.colab.kernel.comms.open(id);\n",
              "      // Send a message to notify the kernel that we're ready.\n",
              "      channel.send({})\n",
              "\n",
              "      for await (const message of channel.messages) {\n",
              "        // Send a message to notify the kernel that we're ready.\n",
              "        channel.send({})\n",
              "        if (message.buffers) {\n",
              "          for (const buffer of message.buffers) {\n",
              "            buffers.push(buffer);\n",
              "            downloaded += buffer.byteLength;\n",
              "            progress.value = downloaded;\n",
              "          }\n",
              "        }\n",
              "      }\n",
              "      const blob = new Blob(buffers, {type: 'application/binary'});\n",
              "      const a = document.createElement('a');\n",
              "      a.href = window.URL.createObjectURL(blob);\n",
              "      a.download = filename;\n",
              "      div.appendChild(a);\n",
              "      a.click();\n",
              "      div.remove();\n",
              "    }\n",
              "  "
            ]
          },
          "metadata": {}
        },
        {
          "output_type": "display_data",
          "data": {
            "text/plain": [
              "<IPython.core.display.Javascript object>"
            ],
            "application/javascript": [
              "download(\"download_b42fabcc-44fd-4867-bc51-c9ec47bdb1fd\", \"log_analysis_results.csv\", 217)"
            ]
          },
          "metadata": {}
        }
      ]
    }
  ]
}